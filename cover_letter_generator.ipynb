{
  "nbformat": 4,
  "nbformat_minor": 0,
  "metadata": {
    "colab": {
      "provenance": [],
      "authorship_tag": "ABX9TyO+1B+IVb7wZXj7LGVJZd/j",
      "include_colab_link": true
    },
    "kernelspec": {
      "name": "python3",
      "display_name": "Python 3"
    },
    "language_info": {
      "name": "python"
    }
  },
  "cells": [
    {
      "cell_type": "markdown",
      "metadata": {
        "id": "view-in-github",
        "colab_type": "text"
      },
      "source": [
        "<a href=\"https://colab.research.google.com/github/krMaynard/genai/blob/main/cover_letter_generator.ipynb\" target=\"_parent\"><img src=\"https://colab.research.google.com/assets/colab-badge.svg\" alt=\"Open In Colab\"/></a>"
      ]
    },
    {
      "cell_type": "code",
      "source": [
        "# @title Setup\n",
        "from google import genai\n",
        "from google.colab import userdata\n",
        "from google.genai import types\n",
        "from IPython.display import display, Markdown\n",
        "import pathlib\n",
        "\n",
        "GOOGLE_API_KEY = userdata.get('GOOGLE_API_KEY')\n",
        "\n",
        "client = genai.Client(api_key=GOOGLE_API_KEY)\n",
        "\n",
        "# Retrieve and encode the PDF byte\n",
        "RESUME_FILEPATH = pathlib.Path('/content/resume.pdf')\n",
        "\n",
        "MODEL = \"gemini-2.5-flash\"\n",
        "\n",
        "def generate_text(prompt):\n",
        "  response = client.models.generate_content(\n",
        "    model=MODEL,\n",
        "    contents=[\n",
        "        types.Part.from_bytes(\n",
        "          data=RESUME_FILEPATH.read_bytes(),\n",
        "          mime_type='application/pdf',\n",
        "        ),\n",
        "        prompt])\n",
        "  return response.text\n",
        "\n",
        "def printmd(string):\n",
        "  display(Markdown(string))"
      ],
      "metadata": {
        "id": "vKWm0jTtCAsB"
      },
      "execution_count": null,
      "outputs": []
    },
    {
      "cell_type": "code",
      "source": [
        "class JobDescription:\n",
        "    def __init__(self, hiring_manager, job_title, description):\n",
        "        self.hiring_manager = hiring_manager\n",
        "        self.job_title = job_title\n",
        "        self.description = description\n",
        "\n",
        "    def __str__(self):\n",
        "        return f\"Hiring Manager: {self.hiring_manager}\\nJob Title: {self.job_title}\\nDescription: {self.description}\""
      ],
      "metadata": {
        "id": "dfR4iZ8McFlc"
      },
      "execution_count": null,
      "outputs": []
    },
    {
      "cell_type": "code",
      "source": [
        "job_descriptions = [\n",
        "    JobDescription(\n",
        "        hiring_manager=\"Jane Doe\",\n",
        "        job_title=\"Technical Program Manager III, Machine Learning, Core\",\n",
        "        description=\"\"\"# Technical Program Manager III, Machine Learning, Core\n",
        "\n",
        "**🏢 Google**\n",
        "**📍 Sunnyvale, CA, USA**\n",
        "\n",
        "---\n",
        "\n",
        "### Minimum qualifications:\n",
        "*   Bachelor's degree in a relevant field, or equivalent practical experience.\n",
        "*   5 years of experience in program management.\n",
        "*   Experience in Machine Learning or Artificial Intelligence.\n",
        "\n",
        "### Preferred qualifications:\n",
        "*   5 years of experience managing cross-functional or cross-team projects.\n",
        "*   Experience with one or more of the following: automation, deep learning, speech recognition, TensorFlow.\n",
        "*   Experience managing execution and high quality product delivery.\n",
        "*   Ability to exercise technical judgment in solving software engineering challenges.\n",
        "\n",
        "### About the job\n",
        "A problem isn’t truly solved until it’s solved for all. That’s why Googlers build products that help create opportunities for everyone, whether down the street or across the globe. As a Technical Program Manager at Google, you’ll use your technical expertise to lead complex, multi-disciplinary projects from start to finish. You’ll work with stakeholders to plan requirements, identify risks, manage project schedules, and communicate clearly with cross-functional partners across the company. You're equally comfortable explaining your team's analyses and recommendations to executives as you are discussing the technical tradeoffs in product development with engineers.\n",
        "\n",
        "As a Technical Program Manager focused on machine learning, you’ll use your expertise to drive innovation that enables Google’s products to see, hear, and understand our users like never before.\n",
        "\n",
        "The **Core** team builds the technical foundation behind Google’s flagship products. We are owners and advocates for the underlying design elements, developer platforms, product components, and infrastructure at Google. These are the essential building blocks for excellent, safe, and coherent experiences for our users and drive the pace of innovation for every developer. We look across Google’s products to build central solutions, break down technical barriers and strengthen existing systems. As the Core team, we have a mandate and a unique opportunity to impact important technical decisions across the company.\n",
        "\n",
        "### Responsibilities\n",
        "*   Manage technology programs, defining milestones and success criteria, resource allocation, and successful on-time delivery.\n",
        "*   Understand Machine Learning technologies and their applications used at Google and beyond.\n",
        "*   Exercise technical judgment in working with large, cross-functional teams.\n",
        "*   Develop tools and processes to improve software engineering productivity.\n",
        "*   Communicate schedules, priorities, and status to all levels in the company.\"\"\"\n",
        "    ),\n",
        "    JobDescription(\n",
        "        hiring_manager=\"Hong Gildong\",\n",
        "        job_title=\"Technical Program Manager III, AI Software Development, Core\",\n",
        "        description=\"\"\"# Technical Program Manager III, AI Software Development, Core\n",
        "**Google**\n",
        "Sunnyvale, CA, USA\n",
        "\n",
        "---\n",
        "\n",
        "### Minimum qualifications:\n",
        "*   Bachelor's degree in a technical field, or equivalent practical experience.\n",
        "*   5 years of experience in program management.\n",
        "*   Experience in Artificial Intelligence or Machine Learning.\n",
        "*   Experience developing large-scale infrastructure systems.\n",
        "*   Experience in the Software Development Lifecycle.\n",
        "\n",
        "### Preferred qualifications:\n",
        "*   5 years of experience managing cross-functional or cross-team projects.\n",
        "*   Experience with Agile Project Management.\n",
        "*   Experience with complex technologies, including software and cloud infrastructure systems.\n",
        "\n",
        "### About the job\n",
        "A problem isn’t truly solved until it’s solved for all. That’s why Googlers build products that help create opportunities for everyone, whether down the street or across the globe. As a Technical Program Manager at Google, you’ll use your technical expertise to lead complex, multi-disciplinary projects from start to finish. You’ll work with stakeholders to plan requirements, identify risks, manage project schedules, and communicate clearly with cross-functional partners across the company. You're equally comfortable explaining your team's analyses and recommendations to executives as you are discussing the technical tradeoffs in product development with engineers.\n",
        "\n",
        "As a Technical Program Manager (TPM), you will be pivotal in guiding Google's Core Developer investments to support the rapid growth and integration of AI-powered products across the Alphabet. You will be deeply involved in understanding current and anticipated AI developer journeys, particularly those involving Large Language Models (LLMs) in consumer applications. You will identify opportunities to enhance existing tools and develop new capabilities, focusing on improving developer productivity, velocity, and the adoption of Google’s innovative AI platforms. You will be driving the evolution towards agent-based workflows for software validation, aiming to reduce developer toil and simultaneously improve system quality and maintainability across the Software Development Lifecycle (SDLC). You will also use a proactive and adaptive approach to navigate the rapidly evolving landscape of AI technologies and developer workflows.\n",
        "\n",
        "The Core team builds the technical foundation behind Google’s flagship products. We are owners and advocates for the underlying design elements, developer platforms, product components, and infrastructure at Google. These are the essential building blocks for excellent, safe, and coherent experiences for our users and drive the pace of innovation for every developer. We look across Google’s products to build central solutions, break down technical barriers and strengthen existing systems. As the Core team, we have a mandate and a unique opportunity to impact important technical decisions across the company.\n",
        "\n",
        "### Responsibilities\n",
        "*   Identify and scope milestones and roadmaps for piloting improvements to AI/ML development tools and processes.\n",
        "*   Understand and address issues in current developer workflows for implementing ML features in production.\n",
        "*   Coordinate with teams responsible for underlying infrastructure, such as build services, test orchestration, and continuous integration/delivery.\n",
        "*   Drive the evolution of software validation towards Agent-based workflows and an Agentic AI ecosystem across the software development lifecycle.\"\"\"\n",
        "    ),\n",
        "    JobDescription(\n",
        "        hiring_manager=\"Charlie Brown\",\n",
        "        job_title=\"Cross-Google TPM Lead, Client Web Frameworks Development\",\n",
        "        description=\"\"\"# Cross-Google TPM Lead, Client Web Frameworks Development\n",
        "**Google**\n",
        "Sunnyvale, CA, USA\n",
        "\n",
        "---\n",
        "\n",
        "### Minimum qualifications:\n",
        "*   Bachelor's degree in a relevant field, or equivalent practical experience.\n",
        "*   5 years of experience in technical program management on cross-functional software development projects.\n",
        "*   Experience working with engineering and product management teams as part of the software development process.\n",
        "\n",
        "### Preferred qualifications:\n",
        "*   Master’s degree in Computer Science, Business, or a related field.\n",
        "*   10 years of experience in technical program management on cross-functional software development projects.\n",
        "*   Experience with Web development including tools and frameworks.\n",
        "*   Excellent track record managing complex, cross-functional programs in a fluid environment, resulting in innovative outcomes and solutions.\n",
        "*   Ability to influence and communicate cross-functionally with management at all levels. Excellent track record of tactical thinking and creative problem-solving skills.\n",
        "\n",
        "### About the job\n",
        "A problem isn’t truly solved until it’s solved for all. That’s why Googlers build products that help create opportunities for everyone, whether down the street or across the globe. As a Technical Program Manager at Google, you’ll use your technical expertise to lead complex, multi-disciplinary projects from start to finish. You’ll work with stakeholders to plan requirements, identify risks, manage project schedules, and communicate clearly with cross-functional partners across the company. You're equally comfortable explaining your team's analyses and recommendations to executives as you are discussing the technical tradeoffs in product development with engineers.\n",
        "\n",
        "As a (Technical Program Management) TPM lead for the Web Framework team, your scope will span across Google's first-party (1P) Product Areas (PAs) and you are on the critical path as a key enabler in Google’s business strategy that relies on integrated products that share code, development processes, and governance. You will have the opportunity to design and transform program management from the start and contribute directly to the business priorities for Google.\n",
        "\n",
        "You will serve Google's 1P apps, and partner closely with Executive Engineering and Product Management teams, key customers, and stakeholders. You will be working across Google's key Product Areas and collaborating on products and platforms that support web development needs across Google.\n",
        "\n",
        "You will lead end-to-end cross-program initiatives, as well as specific areas of the solution, leveraging the expertise in shaping the planning, strategy, and execution for the team.\n",
        "\n",
        "The Core team builds the technical foundation behind Google’s flagship products. We are owners and advocates for the underlying design elements, developer platforms, product components, and infrastructure at Google. These are the essential building blocks for excellent, safe, and coherent experiences for our users and drive the pace of innovation for every developer. We look across Google’s products to build central solutions, break down technical barriers and strengthen existing systems. As the Core team, we have a mandate and a unique opportunity to impact important technical decisions across the company.\n",
        "\n",
        "### Responsibilities\n",
        "*   Strategize, define, and implement program management excellence: this includes strategically driving initiatives aligned with the business priorities and managing cross-functional coordination across a large and complex space to deliver outstanding program outcomes.\n",
        "*   Exhibit thought leadership and identify and focus on the problem space, strategically and tactically navigating complex initiatives, and guiding a variety of moving pieces toward execution.\n",
        "*   Work closely with engineering leaders, product managers, and other teams to get high-quality features through the software life-cycle.\n",
        "*   Navigate requirements from Google's Product Areas (PAs) on web development to align priorities and outcomes across Google's product areas.\n",
        "*   Build visibility into complex program portfolios and manage tactical communication of progress/status within the core team and with our PAs and partners.\"\"\"\n",
        "    )\n",
        "]\n",
        "\n",
        "# You can loop through the job descriptions and access individual attributes:\n",
        "for job in job_descriptions:\n",
        "    print(f\"Hello {job.hiring_manager},\")\n",
        "    print(f\"I'm interested in the role {job.job_title}\")\n",
        "    print(\"-\" * 20)"
      ],
      "metadata": {
        "id": "S4vhOyVJXGrK"
      },
      "execution_count": null,
      "outputs": []
    },
    {
      "cell_type": "code",
      "source": [
        "responses = []"
      ],
      "metadata": {
        "id": "ZquYkPuRYl5L"
      },
      "execution_count": null,
      "outputs": []
    },
    {
      "cell_type": "code",
      "source": [
        "COVER_LETTER_PROMPT = \"\"\"You are an expert career consultant.\n",
        "\n",
        "  Your task is to help the candidate write a very brief, casual but professional cover letter for the job description below, with a few bullet points highlighting the most relevant experience:\n",
        "\n",
        "  \"\"\""
      ],
      "metadata": {
        "id": "BQz1OO7jb8BW"
      },
      "execution_count": null,
      "outputs": []
    },
    {
      "cell_type": "code",
      "source": [
        "# Test on one response\n",
        "jd = job_descriptions[0]\n",
        "\n",
        "prompt = f\"\"\"{COVER_LETTER_PROMPT}\n",
        "\n",
        "Hiring manager's name: {jd.hiring_manager}\n",
        "\n",
        "Job title: {jd.job_title}\n",
        "\n",
        "Job description:\n",
        "\n",
        "{jd.description}\"\"\"\n",
        "\n",
        "response = generate_text(prompt)\n",
        "printmd(response)"
      ],
      "metadata": {
        "id": "L1ngG5jqYsvb"
      },
      "execution_count": null,
      "outputs": []
    },
    {
      "cell_type": "code",
      "execution_count": null,
      "metadata": {
        "id": "dYpFnA9gTIGs"
      },
      "outputs": [],
      "source": [
        "for jd in job_descriptions:\n",
        "  prompt = f\"\"\"{COVER_LETTER_PROMPT}\n",
        "\n",
        "  Hiring manager's name: {jd.hiring_manager}\n",
        "\n",
        "  Job title: {jd.job_title}\n",
        "\n",
        "  Job description:\n",
        "\n",
        "  {jd.description}\"\"\"\n",
        "  response = generate_text(prompt)\n",
        "  responses.append(response)"
      ]
    },
    {
      "cell_type": "code",
      "source": [
        "for response in responses:\n",
        "  printmd(response)\n",
        "  printmd('---')"
      ],
      "metadata": {
        "id": "4YqpwsWbbYNC"
      },
      "execution_count": null,
      "outputs": []
    }
  ]
}