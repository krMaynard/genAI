{
  "nbformat": 4,
  "nbformat_minor": 0,
  "metadata": {
    "colab": {
      "provenance": [],
      "include_colab_link": true
    },
    "language_info": {
      "name": "python"
    },
    "kernelspec": {
      "name": "python3",
      "display_name": "Python 3"
    }
  },
  "cells": [
    {
      "cell_type": "markdown",
      "metadata": {
        "id": "view-in-github",
        "colab_type": "text"
      },
      "source": [
        "<a href=\"https://colab.research.google.com/github/krMaynard/genAI/blob/main/Chrome_Extension_On_Device_AI_Q%26A.ipynb\" target=\"_parent\"><img src=\"https://colab.research.google.com/assets/colab-badge.svg\" alt=\"Open In Colab\"/></a>"
      ]
    },
    {
      "cell_type": "markdown",
      "metadata": {
        "id": "nBrsWcPgYLgd"
      },
      "source": [
        "# Setup\n",
        "\n",
        "Please ensure you have imported a Gemini API key from AI Studio.\n",
        "You can do this directly in the Secrets tab on the left.\n",
        "\n",
        "After doing so, please run the setup cell below."
      ]
    },
    {
      "cell_type": "code",
      "metadata": {
        "colab": {
          "base_uri": "https://localhost:8080/"
        },
        "id": "qk9GYuAZYLgg",
        "outputId": "77bd6639-43db-47ab-a5bb-fcde7f471900"
      },
      "source": [
        "!pip install -U -q \"google\"\n",
        "!pip install -U -q \"google.genai\"\n",
        "\n",
        "import os\n",
        "from google.colab import userdata\n",
        "from google.colab import drive\n",
        "os.environ[\"GEMINI_API_KEY\"] = userdata.get(\"GOOGLE_API_KEY\")\n",
        "\n",
        "drive.mount(\"/content/drive\")\n",
        "# Please ensure that uploaded files are available in the AI Studio folder or change the working folder.\n",
        "os.chdir(\"/content/drive/MyDrive/Google AI Studio\")"
      ],
      "execution_count": 1,
      "outputs": [
        {
          "output_type": "stream",
          "name": "stdout",
          "text": [
            "\u001b[2K   \u001b[90m━━━━━━━━━━━━━━━━━━━━━━━━━━━━━━━━━━━━━━━━\u001b[0m \u001b[32m45.3/45.3 kB\u001b[0m \u001b[31m1.2 MB/s\u001b[0m eta \u001b[36m0:00:00\u001b[0m\n",
            "\u001b[2K     \u001b[90m━━━━━━━━━━━━━━━━━━━━━━━━━━━━━━━━━━━━━━━━\u001b[0m \u001b[32m41.6/41.6 kB\u001b[0m \u001b[31m2.4 MB/s\u001b[0m eta \u001b[36m0:00:00\u001b[0m\n",
            "\u001b[2K   \u001b[90m━━━━━━━━━━━━━━━━━━━━━━━━━━━━━━━━━━━━━━━━\u001b[0m \u001b[32m226.8/226.8 kB\u001b[0m \u001b[31m8.9 MB/s\u001b[0m eta \u001b[36m0:00:00\u001b[0m\n",
            "\u001b[?25hMounted at /content/drive\n"
          ]
        }
      ]
    },
    {
      "cell_type": "markdown",
      "metadata": {
        "id": "1lg8C2fXYLgh"
      },
      "source": [
        "# Code Generation"
      ]
    },
    {
      "cell_type": "code",
      "metadata": {
        "colab": {
          "base_uri": "https://localhost:8080/"
        },
        "id": "8tm3JQ6dYLgh",
        "outputId": "49d72507-050f-4b5e-ab56-f1330b8e9101"
      },
      "source": [
        "# To run this code you need to install the following dependencies:\n",
        "# pip install google-genai\n",
        "\n",
        "import base64\n",
        "import os\n",
        "from google import genai\n",
        "from google.genai import types\n",
        "\n",
        "prompt = \"\"\"Code a Chrome extension that uses the built in Chrome LLM API to answer questions about the page and runs in a side panel, using the Chrome Side Panel API.\"\"\"\n",
        "\n",
        "\n",
        "def generate():\n",
        "    client = genai.Client(\n",
        "        api_key=os.environ.get(\"GEMINI_API_KEY\"),\n",
        "    )\n",
        "\n",
        "    model = \"gemini-2.5-pro\"\n",
        "    contents = [\n",
        "        types.Content(\n",
        "            role=\"user\",\n",
        "            parts=[\n",
        "                types.Part.from_text(text=prompt),\n",
        "            ],\n",
        "        ),\n",
        "    ]\n",
        "    tools = [\n",
        "        types.Tool(url_context=types.UrlContext()),\n",
        "        types.Tool(googleSearch=types.GoogleSearch(\n",
        "        )),\n",
        "    ]\n",
        "    generate_content_config = types.GenerateContentConfig(\n",
        "        temperature=0,\n",
        "        thinking_config = types.ThinkingConfig(\n",
        "            thinking_budget=-1,\n",
        "        ),\n",
        "        tools=tools,\n",
        "        response_mime_type=\"text/plain\",\n",
        "    )\n",
        "\n",
        "    for chunk in client.models.generate_content_stream(\n",
        "        model=model,\n",
        "        contents=contents,\n",
        "        config=generate_content_config,\n",
        "    ):\n",
        "        print(chunk.text, end=\"\")\n",
        "\n",
        "if __name__ == \"__main__\":\n",
        "    generate()\n"
      ],
      "execution_count": 3,
      "outputs": [
        {
          "output_type": "stream",
          "name": "stdout",
          "text": [
            "## Chrome Extension: Page Q&A with Built-in LLM\n",
            "\n",
            "This Chrome extension empowers you to ask questions about the content of the current web page and receive answers directly within a convenient side panel. Leveraging Chrome's built-in Large Language Model (LLM), this tool provides a seamless and efficient way to interact with and understand web content without leaving your browser tab.\n",
            "\n",
            "### Code Breakdown\n",
            "\n",
            "To create this extension, you will need the following four files:\n",
            "\n",
            "**1. `manifest.json`**\n",
            "\n",
            "This file serves as the blueprint for the extension, defining its name, version, permissions, and the user interface components.\n",
            "\n",
            "```json\n",
            "{\n",
            "  \"name\": \"Page Q&A with Chrome LLM\",\n",
            "  \"version\": \"1.0\",\n",
            "  \"manifest_version\": 3,\n",
            "  \"description\": \"Answers questions about the current page using Chrome's built-in LLM.\",\n",
            "  \"permissions\": [\n",
            "    \"sidePanel\",\n",
            "    \"activeTab\",\n",
            "    \"scripting\",\n",
            "    \"ai\"\n",
            "  ],\n",
            "  \"side_panel\": {\n",
            "    \"default_path\": \"sidepanel.html\"\n",
            "  },\n",
            "  \"action\": {\n",
            "    \"default_title\": \"Ask a question about the page\"\n",
            "  },\n",
            "  \"background\": {\n",
            "    \"service_worker\": \"background.js\"\n",
            "  }\n",
            "}\n",
            "```\n",
            "\n",
            "**2. `sidepanel.html`**\n",
            "\n",
            "This HTML file structures the user interface within the side panel. It includes a text area for user input, a button to trigger the question-answering process, and a designated area to display the generated response.\n",
            "\n",
            "```html\n",
            "<!DOCTYPE html>\n",
            "<html>\n",
            "<head>\n",
            "  <title>Page Q&A</title>\n",
            "  <style>\n",
            "    body {\n",
            "      width: 300px;\n",
            "      padding: 10px;\n",
            "      font-family: sans-serif;\n",
            "    }\n",
            "    #question {\n",
            "      width: 100%;\n",
            "      box-sizing: border-box;\n",
            "      margin-bottom: 10px;\n",
            "    }\n",
            "    #answer {\n",
            "      white-space: pre-wrap;\n",
            "      border: 1px solid #ccc;\n",
            "      padding: 5px;\n",
            "      min-height: 50px;\n",
            "    }\n",
            "  </style>\n",
            "</head>\n",
            "<body>\n",
            "  <h1>Ask a question about the page</h1>\n",
            "  <textarea id=\"question\" placeholder=\"e.g., What is the main topic of this page?\"></textarea>\n",
            "  <button id=\"askButton\">Ask</button>\n",
            "  <h2>Answer:</h2>\n",
            "  <div id=\"answer\"></div>\n",
            "  <script src=\"sidepanel.js\"></script>\n",
            "</body>\n",
            "</html>\n",
            "```\n",
            "\n",
            "**3. `sidepanel.js`**\n",
            "\n",
            "This JavaScript file contains the core logic of the extension. It captures the user's question, extracts the text content from the active web page, and then utilizes the Chrome LLM API to generate an answer.\n",
            "\n",
            "```javascript\n",
            "const questionInput = document.getElementById('question');\n",
            "const askButton = document.getElementById('askButton');\n",
            "const answerDiv = document.getElementById('answer');\n",
            "\n",
            "askButton.addEventListener('click', async () => {\n",
            "  const question = questionInput.value;\n",
            "  if (!question) {\n",
            "    answerDiv.textContent = 'Please enter a question.';\n",
            "    return;\n",
            "  }\n",
            "\n",
            "  answerDiv.textContent = 'Thinking...';\n",
            "\n",
            "  try {\n",
            "    const [tab] = await chrome.tabs.query({ active: true, currentWindow: true });\n",
            "    const [{ result }] = await chrome.scripting.executeScript({\n",
            "      target: { tabId: tab.id },\n",
            "      func: () => document.body.innerText,\n",
            "    });\n",
            "\n",
            "    const model = await chrome.ai.languageModel.create({\n",
            "        systemPrompt: \"You are an expert at answering questions about a given text. The user will provide a text and a question. You need to answer the question based on the provided text.\"\n",
            "    });\n",
            "\n",
            "    const response = await model.prompt({\n",
            "        prompt: `Here is the text from the page:\\n\\n${result}\\n\\nHere is the question:\\n\\n${question}`\n",
            "    });\n",
            "\n",
            "    answerDiv.textContent = response;\n",
            "  } catch (error) {\n",
            "    console.error('Error:', error);\n",
            "    answerDiv.textContent = 'An error occurred. Make sure the Chrome LLM is enabled in chrome://flags';\n",
            "  }\n",
            "});\n",
            "```\n",
            "\n",
            "**4. `background.js`**\n",
            "\n",
            "This background script ensures that the side panel is readily accessible by opening it when the user clicks on the extension's icon in the Chrome toolbar.\n",
            "\n",
            "```javascript\n",
            "chrome.sidePanel\n",
            "  .setPanelBehavior({ openPanelOnActionClick: true })\n",
            "  .catch((error) => console.error(error));\n",
            "```\n",
            "\n",
            "### Installation and Usage\n",
            "\n",
            "To install and use this extension, follow these steps:\n",
            "\n",
            "1.  **Save the Files:** Create a new folder on your computer and save the four code snippets above as `manifest.json`, `sidepanel.html`, `sidepanel.js`, and `background.js` respectively.\n",
            "2.  **Enable Developer Mode:** Open Google Chrome and navigate to `chrome://extensions`. In the top-right corner of the page, toggle the \"Developer mode\" switch to the \"on\" position.\n",
            "3.  **Load the Extension:** Click the \"Load unpacked\" button and select the folder you created in the first step.\n",
            "4.  **Enable Chrome Flags:** For the LLM functionality to work, you need to enable two experimental flags in Chrome. Open new tabs and navigate to the following URLs, enabling each flag:\n",
            "    *   `chrome://flags/#optimization-guide-on-device-model`\n",
            "    *   `chrome://flags/#prompt-api-for-gemini-nano`\n",
            "5.  **Relaunch Chrome:** After enabling the flags, a \"Relaunch\" button will appear at the bottom of the screen. Click it to restart your browser.\n",
            "6.  **Start Asking Questions:** Once Chrome has relaunched, you can navigate to any web page and click the extension's icon in your toolbar to open the side panel. Type your question into the text area and click \"Ask\" to receive an answer based on the page's content.None"
          ]
        }
      ]
    }
  ]
}