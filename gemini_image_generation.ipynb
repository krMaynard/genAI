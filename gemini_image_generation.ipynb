{
  "nbformat": 4,
  "nbformat_minor": 0,
  "metadata": {
    "colab": {
      "provenance": [],
      "authorship_tag": "ABX9TyPlghxp41qWHIkIsqjCk3xJ",
      "include_colab_link": true
    },
    "kernelspec": {
      "name": "python3",
      "display_name": "Python 3"
    },
    "language_info": {
      "name": "python"
    }
  },
  "cells": [
    {
      "cell_type": "markdown",
      "metadata": {
        "id": "view-in-github",
        "colab_type": "text"
      },
      "source": [
        "<a href=\"https://colab.research.google.com/github/krMaynard/genai/blob/main/gemini_image_generation.ipynb\" target=\"_parent\"><img src=\"https://colab.research.google.com/assets/colab-badge.svg\" alt=\"Open In Colab\"/></a>"
      ]
    },
    {
      "cell_type": "code",
      "execution_count": 32,
      "metadata": {
        "colab": {
          "base_uri": "https://localhost:8080/",
          "height": 116
        },
        "id": "I-bVK7ebQ04s",
        "outputId": "fda8ff96-d0da-4fcc-9963-200106379241"
      },
      "outputs": [
        {
          "output_type": "display_data",
          "data": {
            "text/plain": [
              "<IPython.core.display.Markdown object>"
            ],
            "text/markdown": "I will generate a photorealistic image in 8K resolution depicting a surreal scene in a modern Seoul subway station. A sophisticated giraffe in a dark grey business suit, white shirt, and silk tie sits attentively on a metal bench next to a Korean teenage boy in streetwear. The boy is animatedly talking to the giraffe, who seems to be listening. The clean, bright subway station has digital signs in Hangul, tiled surfaces, and a yellow safety line. The foreground with the giraffe and boy will be sharply focused with a shallow depth of field, and the background will be softly blurred. Soft shadows will enhance the realism.\n\n"
          },
          "metadata": {}
        },
        {
          "output_type": "stream",
          "name": "stdout",
          "text": [
            "Image saved to gemini-native-image_26.png\n"
          ]
        }
      ],
      "source": [
        "from IPython.display import display, Markdown\n",
        "from google.colab import userdata\n",
        "from google import genai\n",
        "from google.genai import types\n",
        "from PIL import Image\n",
        "from io import BytesIO\n",
        "import base64\n",
        "import random\n",
        "\n",
        "# Generate a random integer between 0 and 100 (inclusive)\n",
        "random_number = random.randint(0, 100)\n",
        "\n",
        "secret_api_key = userdata.get('GOOGLE_API_KEY')\n",
        "\n",
        "client = genai.Client(api_key=secret_api_key)\n",
        "\n",
        "contents = '''\n",
        "Generate a hyperrealistic, cinematic photograph of a surreal moment in a modern Seoul subway station. A full-grown, elegant giraffe is sitting upright on a polished metal bench, impeccably dressed in a tailored dark grey business suit with a crisp white shirt and a silk tie. Next to the giraffe sits a Korean teenage boy in his late teens, wearing contemporary streetwear (a stylish hoodie, jeans, and sneakers). The boy is turned towards the giraffe, talking to it with an earnest and animated expression, gesturing with one hand. The giraffe appears to be listening intently.\n",
        "\n",
        "The subway station is clean and brightly lit with a mix of cool fluorescent overheads and warm accent lights. In the background, digital signs display train information in glowing Hangul (Korean script). The tiled walls and floor are pristine, reflecting the lights. The yellow safety line is visible on the edge of the platform.\n",
        "\n",
        "Capture the scene with a shallow depth of field, keeping the giraffe and the boy in sharp focus while the background is softly blurred. The lighting should create soft shadows, enhancing the realism and the quiet, intimate nature of their bizarre conversation.\n",
        "\n",
        "**Style:** Photorealistic, 8K resolution, ultra-detailed, sharp focus, shot on a Sony A7R IV with a 50mm f/1.2 lens.\n",
        "'''\n",
        "\n",
        "response = client.models.generate_content(\n",
        "    model=\"gemini-2.0-flash-preview-image-generation\",\n",
        "    contents=contents,\n",
        "    config=types.GenerateContentConfig(\n",
        "      response_modalities=['TEXT', 'IMAGE']\n",
        "    )\n",
        ")\n",
        "\n",
        "image_filename = f'gemini-native-image_{random_number}.png'\n",
        "\n",
        "for part in response.candidates[0].content.parts:\n",
        "  if part.text is not None:\n",
        "    display(Markdown(part.text))\n",
        "  elif part.inline_data is not None:\n",
        "    image = Image.open(BytesIO((part.inline_data.data)))\n",
        "    image.save(image_filename)\n",
        "    print(f'Image saved to {image_filename}')\n",
        "    image.show()\n"
      ]
    }
  ]
}