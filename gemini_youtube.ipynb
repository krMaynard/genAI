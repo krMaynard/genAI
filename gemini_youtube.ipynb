{
  "nbformat": 4,
  "nbformat_minor": 0,
  "metadata": {
    "colab": {
      "provenance": [],
      "authorship_tag": "ABX9TyNRVr/Jh53/ijuSZLiTqr6H",
      "include_colab_link": true
    },
    "kernelspec": {
      "name": "python3",
      "display_name": "Python 3"
    },
    "language_info": {
      "name": "python"
    }
  },
  "cells": [
    {
      "cell_type": "markdown",
      "metadata": {
        "id": "view-in-github",
        "colab_type": "text"
      },
      "source": [
        "<a href=\"https://colab.research.google.com/github/krMaynard/genai/blob/main/gemini_youtube.ipynb\" target=\"_parent\"><img src=\"https://colab.research.google.com/assets/colab-badge.svg\" alt=\"Open In Colab\"/></a>"
      ]
    },
    {
      "cell_type": "code",
      "execution_count": 12,
      "metadata": {
        "id": "I-bVK7ebQ04s"
      },
      "outputs": [],
      "source": [
        "# Standard library imports\n",
        "import textwrap\n",
        "from io import BytesIO\n",
        "\n",
        "# Third-party imports\n",
        "from google import genai\n",
        "from google.colab import userdata\n",
        "from google.genai import types\n",
        "from IPython.display import display, Markdown\n",
        "\n",
        "secret_api_key = userdata.get('GOOGLE_API_KEY')\n",
        "\n",
        "client = genai.Client(api_key=secret_api_key)\n",
        "\n",
        "prompts = []\n",
        "responses = []"
      ]
    },
    {
      "cell_type": "code",
      "source": [
        "PROMPT = textwrap.dedent(\"\"\"\\\n",
        "  Create a detailed outline of all the topics presented in the video,\n",
        "  as a study guide for a highly motivated and technically knowledgeable\n",
        "  student to further their knowledge of GenAI and practical applications.\\\n",
        "\"\"\")\n",
        "\n",
        "VIDEO_URL = 'https://www.youtube.com/watch?v=9-eXLFvAoKM&t=381s'\n",
        "\n",
        "MODEL = 'models/gemini-2.5-flash'"
      ],
      "metadata": {
        "id": "yOw3L2GBYkQo"
      },
      "execution_count": 13,
      "outputs": []
    },
    {
      "cell_type": "code",
      "source": [
        "def prompt_video(prompt,url):\n",
        "  prompts.append(prompt)\n",
        "  response = client.models.generate_content(\n",
        "      model=MODEL,\n",
        "      contents=types.Content(\n",
        "          parts=[\n",
        "              types.Part(\n",
        "                  file_data=types.FileData(file_uri=url)\n",
        "              ),\n",
        "              types.Part(text=prompt)\n",
        "          ]\n",
        "      )\n",
        "  )\n",
        "  responses.append(response)\n",
        "  return response"
      ],
      "metadata": {
        "id": "vcO0z9owYhI4"
      },
      "execution_count": 14,
      "outputs": []
    },
    {
      "cell_type": "code",
      "source": [
        "response = prompt_video(PROMPT,VIDEO_URL)\n",
        "video_summary = response.parts[0].text"
      ],
      "metadata": {
        "id": "qr3R9ZXpZB_Z"
      },
      "execution_count": null,
      "outputs": []
    },
    {
      "cell_type": "code",
      "source": [
        "def printmd(text):\n",
        "  display(Markdown(text))\n",
        "\n",
        "printmd(video_summary)"
      ],
      "metadata": {
        "id": "HEteEFsNYoXw"
      },
      "execution_count": null,
      "outputs": []
    }
  ]
}