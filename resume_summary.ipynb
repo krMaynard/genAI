{
  "nbformat": 4,
  "nbformat_minor": 0,
  "metadata": {
    "colab": {
      "provenance": [],
      "authorship_tag": "ABX9TyMJU8txvcO5eikUUPjMf74T",
      "include_colab_link": true
    },
    "kernelspec": {
      "name": "python3",
      "display_name": "Python 3"
    },
    "language_info": {
      "name": "python"
    }
  },
  "cells": [
    {
      "cell_type": "markdown",
      "metadata": {
        "id": "view-in-github",
        "colab_type": "text"
      },
      "source": [
        "<a href=\"https://colab.research.google.com/github/krMaynard/genAI/blob/main/resume_summary.ipynb\" target=\"_parent\"><img src=\"https://colab.research.google.com/assets/colab-badge.svg\" alt=\"Open In Colab\"/></a>"
      ]
    },
    {
      "cell_type": "code",
      "source": [
        "# @title Setup\n",
        "from IPython.display import display, Markdown\n",
        "from google import genai\n",
        "from google.colab import userdata\n",
        "from google.genai import types\n",
        "import pathlib\n",
        "\n",
        "secret_api_key = userdata.get('GOOGLE_API_KEY')\n",
        "\n",
        "client = genai.Client(api_key=secret_api_key)\n",
        "\n",
        "# Retrieve and encode the PDF byte\n",
        "filepath = pathlib.Path('/content/resume.pdf')\n",
        "\n",
        "def generate_text(prompt):\n",
        "  response = client.models.generate_content(\n",
        "    model=\"gemini-2.5-flash\",\n",
        "    contents=[\n",
        "        types.Part.from_bytes(\n",
        "          data=filepath.read_bytes(),\n",
        "          mime_type='application/pdf',\n",
        "        ),\n",
        "        prompt])\n",
        "  return response.text"
      ],
      "metadata": {
        "cellView": "form",
        "id": "vKWm0jTtCAsB"
      },
      "execution_count": 19,
      "outputs": []
    },
    {
      "cell_type": "code",
      "source": [
        "# @title Prompt\n",
        "prompt = \"What has your career journey been?\" # @param {\"type\":\"string\",\"placeholder\":\"Summarize this document\"}"
      ],
      "metadata": {
        "cellView": "form",
        "id": "37mgWhaHBtxF"
      },
      "execution_count": 26,
      "outputs": []
    },
    {
      "cell_type": "code",
      "execution_count": 27,
      "metadata": {
        "id": "dYpFnA9gTIGs"
      },
      "outputs": [],
      "source": [
        "response = generate_text(prompt)"
      ]
    },
    {
      "cell_type": "code",
      "source": [
        "display(Markdown(response))"
      ],
      "metadata": {
        "id": "-OKj-8bZDmfd",
        "outputId": "d3c56cd1-5824-45ca-90be-6ae79a409f52",
        "colab": {
          "base_uri": "https://localhost:8080/",
          "height": 609
        }
      },
      "execution_count": 28,
      "outputs": [
        {
          "output_type": "display_data",
          "data": {
            "text/plain": [
              "<IPython.core.display.Markdown object>"
            ],
            "text/markdown": "Kieran Maynard's career journey at Google demonstrates a clear progression from hands-on legal operations and policy enforcement to strategic program management, with an increasing focus on leveraging technology, particularly Artificial Intelligence, for process optimization and regulatory compliance.\n\n**Foundational Years in Legal Operations & Policy (2014-2021):**\nKieran began in **July 2014** as a **Legal Operations Associate** within Google's Legal Removals team. This foundational role involved direct, high-volume content removal decisions across various Google products, emphasizing efficiency (significantly reducing processing time and improving SLA) and adherence to company principles. This period built a strong understanding of Google's content policies, compliance, and operational excellence in a high-stakes environment.\n\nIn **September 2018**, Kieran transitioned to **Policy Specialist I, Legal Removals**, marking a shift from operational execution to policy development and strategy. Here, responsibilities expanded to include leading policy development for regulatory compliance (e.g., the 2019 Indian general election), spearheading business continuity planning, and optimizing workflows. Notably, this phase saw the early implementation of automation solutions, saving significant hours and demonstrating an initial aptitude for technical problem-solving. This role also deepened expertise in stakeholder management and navigating complex, politically nuanced issues, particularly in the APAC region.\n\n**Strategic Policy Leadership & Emerging AI Focus (2021-2024):**\nBy **April 2021**, Kieran was promoted to **Policy Specialist II, Legal Content Policy & Standards**. This role solidified leadership in developing and scaling \"Regulatory Readiness\" across a broad portfolio of high-impact regulations. Key achievements included leading gap analyses, mentoring a team, and scaling capacity through process optimization and, significantly, **exploring GenAI applications**. Kieran was instrumental in developing and launching content moderation policies for new AI products like Gemini, and continued to drive data, tooling, and automation solutions, further reducing operational expenditure. This period highlights a clear pivot towards integrating AI into policy and operations.\n\n**Transition to Program Management & AI Specialization (2024-Present, Future Roles):**\nThe career path takes a decisive turn towards program management and deep AI specialization with the upcoming roles:\n\n*   **Program Manager II, Regulatory Engagement & Compliance, Privacy Sandbox (June 2024 – July 2025):** In this role, Kieran will lead scalable processes for Privacy Sandbox's regulatory deliverables, with a primary focus on **spearheading the use of LLMs and automation tooling** to enhance efficiency and scalability. This signifies a move into managing complex regulatory engagements through technological innovation, coordinating across a vast array of cross-functional teams.\n\n*   **Technical Program Manager II, Ecosystem Experience & Engagement, Privacy Sandbox (July 2025 – present):** This is the culmination of Kieran's journey, transitioning into a full-fledged technical program management role. The core responsibility will be to **lead org-wide initiatives to improve product launch velocity through AI enablement**. This involves leading complex, multi-disciplinary engineering projects, applying technical knowledge to guide teams, and driving continual improvement, solidifying a position at the intersection of AI, product, and strategic execution within a high-profile area like Privacy Sandbox.\n\n**Overall Trajectory:**\nKieran Maynard's career journey at Google is characterized by a consistent upward trajectory, moving from executing policies to defining them, and then to strategically leveraging cutting-edge technologies like AI to manage complex programs and drive organizational change. The progression showcases a strong blend of legal, policy, and now increasingly, technical acumen, with a consistent theme of process optimization, data-driven decision-making, and impactful cross-functional leadership, particularly within the challenging and evolving landscape of privacy, compliance, and artificial intelligence."
          },
          "metadata": {}
        }
      ]
    }
  ]
}