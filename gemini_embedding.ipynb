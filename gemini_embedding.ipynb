{
  "nbformat": 4,
  "nbformat_minor": 0,
  "metadata": {
    "colab": {
      "provenance": [],
      "authorship_tag": "ABX9TyMW2EsRe+MyGdawajLgFaP2"
    },
    "kernelspec": {
      "name": "python3",
      "display_name": "Python 3"
    },
    "language_info": {
      "name": "python"
    }
  },
  "cells": [
    {
      "cell_type": "code",
      "execution_count": 6,
      "metadata": {
        "colab": {
          "base_uri": "https://localhost:8080/"
        },
        "id": "Bsff2K6fn1bS",
        "outputId": "a41e6053-cfc3-4c65-d9a0-9d4354d07914"
      },
      "outputs": [
        {
          "output_type": "stream",
          "name": "stdout",
          "text": [
            "[ContentEmbedding(\n",
            "  values=[\n",
            "    -0.010818799,\n",
            "    -0.008793927,\n",
            "    -0.01790319,\n",
            "    -0.08235394,\n",
            "    -0.0043795323,\n",
            "    <... 3067 more items ...>,\n",
            "  ]\n",
            ")]\n"
          ]
        }
      ],
      "source": [
        "from google import genai\n",
        "from google.colab import userdata\n",
        "\n",
        "GOOGLE_API_KEY = userdata.get('GOOGLE_API_KEY')\n",
        "\n",
        "client = genai.Client(api_key=GOOGLE_API_KEY)\n",
        "\n",
        "result = client.models.embed_content(\n",
        "\n",
        "    model=\"gemini-embedding-001\",\n",
        "\n",
        "    contents=\"What is the airspeed velocity of an unladen swallow?\"\n",
        "\n",
        ")\n",
        "\n",
        "\n",
        "print(result.embeddings)"
      ]
    }
  ]
}