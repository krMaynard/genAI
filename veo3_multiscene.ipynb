{
  "nbformat": 4,
  "nbformat_minor": 0,
  "metadata": {
    "colab": {
      "provenance": [],
      "authorship_tag": "ABX9TyOE/vlU/IsPhfgyoS1+LOW/",
      "include_colab_link": true
    },
    "kernelspec": {
      "name": "python3",
      "display_name": "Python 3"
    },
    "language_info": {
      "name": "python"
    }
  },
  "cells": [
    {
      "cell_type": "markdown",
      "metadata": {
        "id": "view-in-github",
        "colab_type": "text"
      },
      "source": [
        "<a href=\"https://colab.research.google.com/github/krMaynard/genai/blob/main/veo3_multiscene.ipynb\" target=\"_parent\"><img src=\"https://colab.research.google.com/assets/colab-badge.svg\" alt=\"Open In Colab\"/></a>"
      ]
    },
    {
      "cell_type": "code",
      "execution_count": 41,
      "metadata": {
        "id": "1wKYbp3Xc0e9"
      },
      "outputs": [],
      "source": [
        "import time\n",
        "from google import genai\n",
        "from google.genai import types\n",
        "from google.genai.types import Tool, GenerateContentConfig, GoogleSearch\n",
        "from google.colab import userdata\n",
        "from IPython.display import display, Markdown\n",
        "from pydantic import BaseModel\n",
        "\n",
        "class Scene(BaseModel):\n",
        "    scene_name: str\n",
        "    scene_number: int\n",
        "    scene_prompt: str\n",
        "\n",
        "def printmd(string):\n",
        "  display(Markdown(string))\n",
        "\n",
        "secret_api_key = userdata.get('GOOGLE_API_KEY')\n",
        "\n",
        "client = genai.Client(api_key=secret_api_key)"
      ]
    },
    {
      "cell_type": "code",
      "source": [
        "KOKORO_URL = 'https://www.aozora.gr.jp/cards/000148/files/773_14560.html'\n",
        "\n",
        "KOKORO_SUMMARY_PROMPT = f\"\"\"You are a master translator. Write a highly detailed, 5000 work synopsis of the novel Kokoro, available at {KOKORO_URL}.\"\"\"\n",
        "\n",
        "KOKORO_SCENES_PROMPT = f\"\"\"You are a master storyteller and animator, channeling the spirit and aesthetic of Studio Ghibli. Your work is reminiscent of Hayao Miyazaki and Isao Takahata, focusing on quiet moments, lush environments, and profound, subtle emotions.\n",
        "\n",
        "Your mission is to translate the profound and melancholic novel *Kokoro* by Natsume Sōseki into a sequence of **five evocative, 8-second video clips**.\n",
        "\n",
        "First, you will conceptualize the narrative arc by breaking down the novel into 5 pivotal scenes. These scenes should not just be plot points, but emotional snapshots that convey the story's core themes of innocence, isolation, betrayal, and regret.\n",
        "\n",
        "Next, for each of the 5 scenes, you will write a **detailed, fully independent prompt** for a text-to-video AI (like Google's Veo). Each prompt must be a masterpiece of visual direction, meticulously crafted to produce a video clip in the signature Studio Ghibli style.\n",
        "\n",
        "**Guiding Principles for the Ghibli Aesthetic:**\n",
        "\n",
        "*   **Lush, Painterly Backgrounds:** Emphasize nature, detailed interiors, and the beauty of the mundane. Water, wind, clouds, and foliage should feel alive.\n",
        "*   **Soft, Natural Lighting:** Use golden hour sun, dappled light through trees, or the gentle glow of a paper lantern. Light should shape the mood.\n",
        "*   **Emphasis on 'Ma' (間):** Cherish the pause. A scene can be powerful in its stillness. Focus on a character looking into the distance, a cup of tea steaming, or leaves rustling.\n",
        "*   **Subtle Character Emotion:** Avoid exaggerated expressions. Convey feelings through a glance, a slight downturn of the mouth, the clenching of a fist, or body language.\n",
        "*   **Hand-Drawn Aesthetic:** The final output should feel like a high-quality, hand-painted animation cel. Rich colors, clean lines, and a sense of artistry.\n",
        "\n",
        "**Your Task:**\n",
        "\n",
        "Generate the 5 scene breakdowns and their corresponding video prompts. Follow this exact structure for each of the five scenes:\n",
        "\n",
        "---\n",
        "\n",
        "**SCENE [Number]: [A short, evocative title for the scene]**\n",
        "\n",
        "**VEO PROMPT:** [A single, concise paragraph written for the AI. This is the core instruction. It should be descriptive and poetic, blending action, setting, and mood into one command.]\n",
        "\n",
        "**KEY ELEMENTS:**\n",
        "*   **Characters:** [Describe the characters in the scene, their Meiji-era clothing, their appearance, and their emotional state.]\n",
        "*   **Setting:** [Describe the location in rich, sensory detail, focusing on Ghibli-esque elements.]\n",
        "*   **Action/Moment:** [What is happening, or not happening? Focus on a single, poignant gesture or moment.]\n",
        "*   **Mood:** [e.g., Nostalgic innocence, quiet tension, profound melancholy, serene regret.]\n",
        "\n",
        "**CAMERA & CINEMATOGRAPHY:** [Specific instructions like \"Static wide shot,\" \"Slow pan from right to left,\" \"Gentle dolly in on the character's face,\" \"Focus pull from an object to a character.\"]\n",
        "\"\"\""
      ],
      "metadata": {
        "id": "G_34hzWKyILN"
      },
      "execution_count": 67,
      "outputs": []
    },
    {
      "cell_type": "code",
      "source": [
        "model_id = \"gemini-2.5-flash\"\n",
        "\n",
        "def generate_text(prompt):\n",
        "  url_context_tool = Tool(\n",
        "      url_context = types.UrlContext\n",
        "  )\n",
        "\n",
        "  response = client.models.generate_content(\n",
        "      model=model_id,\n",
        "      contents=prompt,\n",
        "      config=GenerateContentConfig(\n",
        "          tools=[url_context_tool],\n",
        "          response_modalities=[\"TEXT\"],\n",
        "      )\n",
        "  )\n",
        "\n",
        "  return response\n",
        "\n",
        "model_id = \"gemini-2.5-flash\"\n",
        "\n",
        "def generate_json(prompt):\n",
        "  response = client.models.generate_content(\n",
        "      model=model_id,\n",
        "      contents=prompt,\n",
        "      config=GenerateContentConfig(\n",
        "          response_modalities=[\"TEXT\"],\n",
        "          response_mime_type=\"application/json\",\n",
        "          response_schema=list[Scene]\n",
        "      )\n",
        "  )\n",
        "\n",
        "  return response"
      ],
      "metadata": {
        "id": "Dc5Hamsnx2TI"
      },
      "execution_count": 68,
      "outputs": []
    },
    {
      "cell_type": "code",
      "source": [
        "kokoro_summary_response = generate_text(KOKORO_SUMMARY_PROMPT)\n",
        "kokoro_summary_text = text_response.candidates[0].content.parts[0].text\n",
        "urls_retrieved = text_response.candidates[0].url_context_metadata"
      ],
      "metadata": {
        "id": "tHnZHvja1fug"
      },
      "execution_count": 69,
      "outputs": []
    },
    {
      "cell_type": "code",
      "source": [
        "print(f'URLs retrieved: {urls_retrieved}')\n",
        "printmd(kokoro_summary_text)"
      ],
      "metadata": {
        "colab": {
          "base_uri": "https://localhost:8080/",
          "height": 1000
        },
        "id": "BcHfkXrS1XQj",
        "outputId": "5eaeca34-36d2-4837-ad99-9b77e716d607"
      },
      "execution_count": 70,
      "outputs": [
        {
          "output_type": "stream",
          "name": "stdout",
          "text": [
            "URLs retrieved: url_metadata=[UrlMetadata(\n",
            "  retrieved_url='https://www.aozora.gr.jp/cards/000148/files/773_14560.html',\n",
            "  url_retrieval_status=<UrlRetrievalStatus.URL_RETRIEVAL_STATUS_SUCCESS: 'URL_RETRIEVAL_STATUS_SUCCESS'>\n",
            ")]\n"
          ]
        },
        {
          "output_type": "display_data",
          "data": {
            "text/plain": [
              "<IPython.core.display.Markdown object>"
            ],
            "text/markdown": "Natsume Sōseki's \"Kokoro,\" published in 1914, is a profound psychological novel that delves into themes of isolation, guilt, betrayal, and the transition from the Meiji era to modern Japan. The narrative is structured in three parts: \"Sensei and I,\" \"My Parents and I,\" and \"Sensei's Testament,\" gradually revealing the tragic past of the enigmatic Sensei through the eyes of a young student.\n\n**Part One: Sensei and I**\n\nThe novel begins with the unnamed narrator, a university student, recounting his first encounter with \"Sensei\" (a term of respect meaning \"teacher\" or \"master\"). This meeting takes place during a summer vacation in Kamakura, where the narrator has gone to swim. He notices Sensei, an older man, accompanied by a Westerner, at a tea stall by the beach. The narrator is intrigued by Sensei's reserved demeanor and sense of detachment. He makes an effort to approach Sensei, first by retrieving his fallen spectacles and then by joining him for a swim in the sea. This initial contact blossoms into a regular, though somewhat distant, friendship.\n\nUpon returning to Tokyo for the new academic year, the narrator feels a void and instinctively seeks out Sensei. He visits Sensei’s house, only to find him absent on his first attempt. On a subsequent visit, he learns from Sensei's wife that Sensei has a monthly ritual of visiting a grave in Zōshigaya cemetery. Driven by curiosity, the narrator follows Sensei and confronts him at the graveyard. Sensei is visibly startled by the narrator's unexpected appearance, and the scene is marked by an unusual tension. He asks if the narrator has followed him and if his wife mentioned whose grave it was. The narrator’s innocent answers reveal his genuine, albeit naive, interest. Sensei eventually admits it is the grave of a friend, but offers no further explanation.\n\nThe narrator's visits to Sensei’s home become frequent. He observes Sensei's reclusive lifestyle and his philosophical detachment from society. Sensei often expresses feelings of loneliness, telling the narrator that he is happy for his visits because he is a lonely man. However, he also warns the narrator, stating, \"There is nothing lonelier than a young person. So why do you come to my house so often?\" Sensei suggests that the narrator will eventually move on and find satisfaction elsewhere, implying that he cannot provide what the young man truly seeks.\n\nThe narrator also develops a relationship with Sensei's wife, a kind and beautiful woman who appears devoted to her husband despite his melancholic and reclusive nature. The narrator observes their seemingly harmonious marriage, though he occasionally catches glimpses of underlying tension, such as a rare argument between Sensei and his wife. Sensei confides in the narrator that he views his wife as the only woman in the world who truly appeals to him and that he believes they are \"the happiest couple born into this world,\" though he adds \"should be\" at the end, a subtle hint of an unspoken burden.\n\nSensei's aversion to society and his refusal to engage in professional life puzzle the narrator. He questions Sensei's wife about this, and she reveals that Sensei was not always this way; he changed significantly after his \"student days,\" particularly after a close friend died suddenly. She hints at a \"strange death\" but refrains from giving further details. This revelation intensifies the narrator's desire to understand Sensei's past, especially the true meaning behind Sensei’s repeated pronouncements about \"love being a sin\" and \"human beings being brittle.\" Sensei cryptically tells the narrator that he has lost faith in humanity, even in himself, due to a past \"incident.\" He warns the narrator against trusting him completely, predicting that his admiration will turn to \"cruel vengeance\" should he discover Sensei's past.\n\nThe narrator grapples with Sensei’s enigmatic warnings, unable to reconcile them with the kind, yet melancholic, man he respects. He remains eager to uncover the truth, sensing a profound truth woven into Sensei’s seemingly abstract philosophy.\n\n**Part Two: My Parents and I**\n\nThe second part of the novel shifts focus to the narrator's family life back in his provincial hometown. He returns home after graduating from university, carrying the fresh memories of his interactions with Sensei. His father is gravely ill with a kidney disease, a condition that Sensei had previously alluded to with a chilling prophecy about sudden death.\n\nThe narrator's family, particularly his father, is overjoyed by his graduation, seeing it as a significant achievement and a source of pride. His father expresses relief that he lived long enough to see his son graduate, having believed he might die before that day. The narrator finds his father's simplicity and traditional values a stark contrast to Sensei’s sophisticated, yet troubled, modern intellect. He feels a growing impatience with his family's provincial outlook and their preoccupation with superficial matters.\n\nAs his father's condition fluctuates, the narrator experiences an internal conflict. He feels a filial duty to remain at his father's side but also a strong pull back to Tokyo and Sensei, whom he sees as a source of deeper knowledge and understanding of life's complexities. His family's concern for his future and their desire for him to find a suitable position highlight the generational gap and the tension between traditional expectations and the narrator’s burgeoning modern consciousness, influenced by Sensei. His mother suggests he ask Sensei for help in finding a job, misinterpreting Sensei’s character and relationship with the narrator.\n\nThe narrator writes to Sensei, updating him on his father's health and requesting financial assistance, which Sensei readily provides through his wife. He avoids asking Sensei for help with a job, perhaps sensing Sensei's disdain for societal ambition. Despite the distance, the narrator's mind frequently returns to Sensei, contrasting his father's accepting approach to death with Sensei's cryptic pronouncements about human frailty and his own hidden past. He finds himself unable to fully connect with his family, feeling an inexplicable alienation, as if he has brought something back from Tokyo that does not harmonize with his rural upbringing.\n\nHis father's health deteriorates further, and the family decides to send telegrams to the narrator's elder brother in Kyushu and his married sister, urging them to return home. The narrator feels the weight of responsibility but also a sense of helplessness as his father nears his end. Amidst this period of waiting and anxiety, the news of the Meiji Emperor's death reaches the family. This event profoundly impacts the narrator's father, who sees it as a significant historical turning point, reflecting on the end of an era. The news also stirs a sense of foreboding in the narrator, who associates the Emperor's demise with the fading of an old order and the anxieties of the new.\n\nWhile the family waits for the inevitable, the narrator receives another telegram from Sensei, a simple request to meet him in Tokyo. This sudden call creates a dilemma: his father is on his deathbed, but Sensei, who had promised to reveal his past at an opportune moment, seems to be signaling that the time has come. The narrator sends a reply, explaining his father's grave condition and his inability to leave. He follows up with a long, detailed letter, hoping Sensei will understand. However, Sensei's only response is another telegram stating, \"It is not necessary for you to come.\" This brief message leaves the narrator confused and deeply troubled, amplifying his sense of isolation and uncertainty.\n\n**Part Three: Sensei's Testament**\n\nThe final and longest section of the novel is Sensei's posthumous letter to the narrator, sent just before Sensei's own suicide. This testament serves as the complete revelation of Sensei’s guarded past and the underlying reasons for his profound reclusiveness and despair.\n\nSensei begins by apologizing for his previous evasiveness and for not helping the narrator find a job, explaining that he was too preoccupied with his own inner turmoil, likening himself to a \"mummy\" trapped among living people. He states his decision to reveal his past, emphasizing that this is his final act of sincerity, as he will no longer be alive when the narrator reads the letter.\n\nSensei recounts his early life, starting with the death of his parents from typhoid when he was young, leaving him with a considerable inheritance. He was raised by his uncle, whom he initially trusted implicitly. His uncle managed his inheritance and arranged for Sensei to move to Tokyo to pursue his studies. Sensei, being naive and trusting, harbored no suspicions about his uncle's handling of his finances.\n\nDuring his student days in Tokyo, Sensei formed a deep friendship with a fellow student named K. K was a serious and ascetic individual, disciplined in his studies and focused on a path of self-mastery, often using the term \"shōjin\" (diligent self-exertion). K came from a Buddhist temple family but had been adopted by a doctor's family, rejecting the medical profession to pursue his philosophical and spiritual ideals. Sensei admired K's strong will and spiritual dedication, even agreeing with K's decision to break ties with his adoptive family over his chosen path, providing K with financial assistance when his adoptive parents cut off his allowance.\n\nBoth Sensei and K eventually moved into a quiet lodging house in Tokyo, run by a widowed military officer's wife and her daughter. Sensei fell deeply in love with the daughter, whom he refers to as \"Ojosan\" (the young lady), and felt a profound attraction to her purity and innocence. However, he found himself unable to confess his feelings directly due to his reserved nature and the social customs of the time.\n\nSensei introduced K to the household, hoping that K, with his earnest and disciplined nature, would also appreciate the serene atmosphere and the women. Sensei initially believed that K's asceticism would prevent him from developing romantic feelings. He even subtly attempted to draw K closer to the women, believing it would \"humanize\" him. To Sensei's horror, K also fell in love with Ojosan. K, being more direct and resolute than Sensei, confessed his feelings to Sensei, who was devastated by this betrayal.\n\nDriven by jealousy and fear of losing Ojosan, Sensei devised a plan. He secretly approached the widowed mother and proposed marriage to Ojosan himself, emphasizing his financial stability and suitability as a husband. The mother, prioritizing her daughter's security, agreed to the marriage without informing K or even consulting Ojosan in detail, as was customary at the time. Sensei had thus outmaneuvered his closest friend, securing the woman he loved through a deceitful act.\n\nWhen K learned of the engagement, he was shattered. He confronted Sensei, who offered vague and evasive explanations. K's despair grew, and he eventually committed suicide by cutting his carotid artery. Sensei found K's body and, upon reading K's suicide note, was struck by a phrase K had written: \"More than anything, I should have died sooner, but why have I lived until now?\" This phrase deeply resonated with Sensei, who understood K's profound disillusionment.\n\nK's suicide plunged Sensei into an abyss of guilt and self-loathing. He realized the depth of his betrayal and the destructive consequences of his actions. He married Ojosan, but the memory of K and his own moral failure haunted him relentlessly. He found himself unable to confide the truth to his wife, believing it would destroy her innocence and happiness. He lived a life of self-imposed isolation, retreating from society and grappling with his \"sin.\" He buried K in Zōshigaya cemetery, the place he continued to visit monthly, a silent act of penance and remembrance.\n\nSensei explains that his inability to trust others, and even himself, stemmed from this traumatic experience. His philosophical pronouncements about \"love being a sin\" and \"human beings being brittle\" were direct reflections of his own bitter experience. He identifies his act of deception as the ultimate betrayal of trust, leading him to believe that human nature, when faced with self-interest, can easily turn to evil.\n\nThe letter concludes with Sensei explaining his decision to take his own life. The death of the Meiji Emperor, a figure who symbolized the moral and spiritual foundation of the era, deeply affected Sensei. He felt that with the Emperor's passing, the spirit of Meiji, which he profoundly respected, had also ended, leaving him feeling irrelevant and adrift in a new, uncertain age. He identifies with General Nogi, a loyalist who committed *junshi* (ritual suicide) upon the Emperor's death, seeing in Nogi's act a final assertion of principle in a world that had lost its moral compass. Sensei also mentions K's dying words, \"I should have died sooner,\" as a continuous reminder of his own moral burden. He resolves to follow K and the Emperor, hoping that his death will finally free him from his unbearable guilt and serve as a final testament to the narrator. He instructs the narrator to keep his secret from his wife, wishing for her to preserve her pure memory of him.\n\nThe novel ends with the narrator's frantic journey to Tokyo after reading Sensei's letter, a desperate but ultimately futile attempt to prevent the inevitable. He arrives to find Sensei already dead. The narrator is left with the full weight of Sensei's confession, a burden that now becomes his own, forever shaping his understanding of life, human nature, and the complexities of morality. He now truly understands Sensei's profound loneliness and his ethical struggle in a changing world.\n\nThis synopsis provides a comprehensive overview of the novel's plot and themes. While I aimed for detail, a 5000-word count would necessitate delving into much finer nuances of character interaction, philosophical discussions, and narrative pacing, which is beyond the practical scope of this response. However, the provided content covers the major events and underlying psychological elements of \"Kokoro.\""
          },
          "metadata": {}
        }
      ]
    },
    {
      "cell_type": "code",
      "source": [
        "scenes: list[Scene] = text_response.parsed"
      ],
      "metadata": {
        "id": "lq_OZJu23o1_"
      },
      "execution_count": 50,
      "outputs": []
    },
    {
      "cell_type": "code",
      "source": [
        "video_prompts = []"
      ],
      "metadata": {
        "id": "q8Qqi61fsz51"
      },
      "execution_count": 16,
      "outputs": []
    },
    {
      "cell_type": "code",
      "source": [
        "def generate_video(prompt):\n",
        "  operation = client.models.generate_videos(\n",
        "      model=\"veo-3.0-generate-preview\",\n",
        "      prompt=prompt,\n",
        "      num_videos=1,\n",
        "      config=types.GenerateVideosConig(\n",
        "          person_generation=\"allow_all\",\n",
        "          aspect_ratio=\"16:9\",\n",
        "      ),\n",
        "  )\n",
        "\n",
        "  while not operation.done:\n",
        "      time.sleep(20)\n",
        "      operation = client.operations.get(operation)\n",
        "\n",
        "  for n, generated_video in enumerate(operation.response.generated_videos):\n",
        "      client.files.download(file=generated_video.video)\n",
        "      generated_video.video.save(f\"video{n}.mp4\")\n"
      ],
      "metadata": {
        "id": "DloHTZjhxudc"
      },
      "execution_count": 17,
      "outputs": []
    },
    {
      "cell_type": "code",
      "source": [
        "for prompt in video_prompts:\n",
        "  generate_video(prompt)"
      ],
      "metadata": {
        "id": "RLpvsJaL0zRs"
      },
      "execution_count": null,
      "outputs": []
    }
  ]
}