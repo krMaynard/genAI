{
  "nbformat": 4,
  "nbformat_minor": 0,
  "metadata": {
    "colab": {
      "provenance": [],
      "authorship_tag": "ABX9TyNJN6tNEeRwnTy/ej5JqySN",
      "include_colab_link": true
    },
    "kernelspec": {
      "name": "python3",
      "display_name": "Python 3"
    },
    "language_info": {
      "name": "python"
    }
  },
  "cells": [
    {
      "cell_type": "markdown",
      "metadata": {
        "id": "view-in-github",
        "colab_type": "text"
      },
      "source": [
        "<a href=\"https://colab.research.google.com/github/krMaynard/genai/blob/main/veo3_codelab.ipynb\" target=\"_parent\"><img src=\"https://colab.research.google.com/assets/colab-badge.svg\" alt=\"Open In Colab\"/></a>"
      ]
    },
    {
      "cell_type": "code",
      "execution_count": null,
      "metadata": {
        "id": "1wKYbp3Xc0e9"
      },
      "outputs": [],
      "source": [
        "import time\n",
        "from google import genai\n",
        "from google.genai import types\n",
        "from google.colab import userdata\n",
        "API_KEY = userdata.get('GOOGLE_API_KEY')\n",
        "genai.configure(api_key=API_KEY)\n",
        "\n",
        "client = genai.Client()\n",
        "\n",
        "operation = client.models.generate_videos(\n",
        "    model=\"veo-3.0-generate-preview\",\n",
        "    prompt=\"Panning wide shot of a purring kitten sleeping in the sunshine\",\n",
        "    config=types.GenerateVideosConfig(\n",
        "        person_generation=\"allow_all\",\n",
        "        aspect_ratio=\"16:9\",\n",
        "    ),\n",
        ")\n",
        "\n",
        "while not operation.done:\n",
        "    time.sleep(20)\n",
        "    operation = client.operations.get(operation)\n",
        "\n",
        "for n, generated_video in enumerate(operation.response.generated_videos):\n",
        "    client.files.download(file=generated_video.video)\n",
        "    generated_video.video.save(f\"video{n}.mp4\")\n"
      ]
    }
  ]
}